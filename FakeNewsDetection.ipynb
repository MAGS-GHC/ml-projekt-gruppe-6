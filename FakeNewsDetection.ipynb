{
 "cells": [
  {
   "cell_type": "markdown",
   "metadata": {},
   "source": [
    "Importing Libraries and Dataset"
   ]
  },
  {
   "cell_type": "code",
   "execution_count": 13,
   "metadata": {},
   "outputs": [
    {
     "data": {
      "text/html": [
       "<div>\n",
       "<style scoped>\n",
       "    .dataframe tbody tr th:only-of-type {\n",
       "        vertical-align: middle;\n",
       "    }\n",
       "\n",
       "    .dataframe tbody tr th {\n",
       "        vertical-align: top;\n",
       "    }\n",
       "\n",
       "    .dataframe thead th {\n",
       "        text-align: right;\n",
       "    }\n",
       "</style>\n",
       "<table border=\"1\" class=\"dataframe\">\n",
       "  <thead>\n",
       "    <tr style=\"text-align: right;\">\n",
       "      <th></th>\n",
       "      <th>Unnamed: 0</th>\n",
       "      <th>title</th>\n",
       "      <th>text</th>\n",
       "      <th>label</th>\n",
       "    </tr>\n",
       "  </thead>\n",
       "  <tbody>\n",
       "    <tr>\n",
       "      <th>0</th>\n",
       "      <td>8476</td>\n",
       "      <td>You Can Smell Hillary’s Fear</td>\n",
       "      <td>Daniel Greenfield, a Shillman Journalism Fello...</td>\n",
       "      <td>FAKE</td>\n",
       "    </tr>\n",
       "    <tr>\n",
       "      <th>1</th>\n",
       "      <td>10294</td>\n",
       "      <td>Watch The Exact Moment Paul Ryan Committed Pol...</td>\n",
       "      <td>Google Pinterest Digg Linkedin Reddit Stumbleu...</td>\n",
       "      <td>FAKE</td>\n",
       "    </tr>\n",
       "    <tr>\n",
       "      <th>2</th>\n",
       "      <td>3608</td>\n",
       "      <td>Kerry to go to Paris in gesture of sympathy</td>\n",
       "      <td>U.S. Secretary of State John F. Kerry said Mon...</td>\n",
       "      <td>REAL</td>\n",
       "    </tr>\n",
       "    <tr>\n",
       "      <th>3</th>\n",
       "      <td>10142</td>\n",
       "      <td>Bernie supporters on Twitter erupt in anger ag...</td>\n",
       "      <td>— Kaydee King (@KaydeeKing) November 9, 2016 T...</td>\n",
       "      <td>FAKE</td>\n",
       "    </tr>\n",
       "    <tr>\n",
       "      <th>4</th>\n",
       "      <td>875</td>\n",
       "      <td>The Battle of New York: Why This Primary Matters</td>\n",
       "      <td>It's primary day in New York and front-runners...</td>\n",
       "      <td>REAL</td>\n",
       "    </tr>\n",
       "  </tbody>\n",
       "</table>\n",
       "</div>"
      ],
      "text/plain": [
       "   Unnamed: 0                                              title  \\\n",
       "0        8476                       You Can Smell Hillary’s Fear   \n",
       "1       10294  Watch The Exact Moment Paul Ryan Committed Pol...   \n",
       "2        3608        Kerry to go to Paris in gesture of sympathy   \n",
       "3       10142  Bernie supporters on Twitter erupt in anger ag...   \n",
       "4         875   The Battle of New York: Why This Primary Matters   \n",
       "\n",
       "                                                text label  \n",
       "0  Daniel Greenfield, a Shillman Journalism Fello...  FAKE  \n",
       "1  Google Pinterest Digg Linkedin Reddit Stumbleu...  FAKE  \n",
       "2  U.S. Secretary of State John F. Kerry said Mon...  REAL  \n",
       "3  — Kaydee King (@KaydeeKing) November 9, 2016 T...  FAKE  \n",
       "4  It's primary day in New York and front-runners...  REAL  "
      ]
     },
     "execution_count": 13,
     "metadata": {},
     "output_type": "execute_result"
    }
   ],
   "source": [
    "import numpy as np \n",
    "import pandas as pd \n",
    "import json \n",
    "import csv \n",
    "import random \n",
    "import os.path\n",
    "import zipfile\n",
    "  \n",
    "from tensorflow.keras.preprocessing.text import Tokenizer \n",
    "from tensorflow.keras.preprocessing.sequence import pad_sequences \n",
    "from tensorflow.keras.utils import to_categorical \n",
    "from tensorflow.keras import regularizers \n",
    "  \n",
    "import pprint \n",
    "import tensorflow.compat.v1 as tf \n",
    "from tensorflow.python.framework import ops \n",
    "from sklearn.model_selection import train_test_split \n",
    "from sklearn import preprocessing \n",
    "tf.disable_eager_execution() \n",
    "\n",
    "\n",
    "  \n",
    "# Reading the data \n",
    "data = pd.read_csv(\"files/news.csv\") \n",
    "data.head() "
   ]
  },
  {
   "cell_type": "markdown",
   "metadata": {},
   "source": [
    "Unzip glove.6B.50d.zip if glove.6B.50d.txt don´t exists"
   ]
  },
  {
   "cell_type": "code",
   "execution_count": 24,
   "metadata": {},
   "outputs": [],
   "source": [
    "if not os.path.exists(\"files/glove.6B.50d.txt\"):\n",
    "    with zipfile.ZipFile(\"files/glove.6B.50d.zip\",\"r\") as f:\n",
    "       f.extractall('files')"
   ]
  },
  {
   "cell_type": "markdown",
   "metadata": {},
   "source": [
    "Preprocessing Dataset\n",
    "\n",
    "As we can see the dataset contains one unnamed column. So we drop that column from the dataset."
   ]
  },
  {
   "cell_type": "code",
   "execution_count": 25,
   "metadata": {},
   "outputs": [
    {
     "data": {
      "text/html": [
       "<div>\n",
       "<style scoped>\n",
       "    .dataframe tbody tr th:only-of-type {\n",
       "        vertical-align: middle;\n",
       "    }\n",
       "\n",
       "    .dataframe tbody tr th {\n",
       "        vertical-align: top;\n",
       "    }\n",
       "\n",
       "    .dataframe thead th {\n",
       "        text-align: right;\n",
       "    }\n",
       "</style>\n",
       "<table border=\"1\" class=\"dataframe\">\n",
       "  <thead>\n",
       "    <tr style=\"text-align: right;\">\n",
       "      <th></th>\n",
       "      <th>title</th>\n",
       "      <th>text</th>\n",
       "      <th>label</th>\n",
       "    </tr>\n",
       "  </thead>\n",
       "  <tbody>\n",
       "    <tr>\n",
       "      <th>0</th>\n",
       "      <td>You Can Smell Hillary’s Fear</td>\n",
       "      <td>Daniel Greenfield, a Shillman Journalism Fello...</td>\n",
       "      <td>FAKE</td>\n",
       "    </tr>\n",
       "    <tr>\n",
       "      <th>1</th>\n",
       "      <td>Watch The Exact Moment Paul Ryan Committed Pol...</td>\n",
       "      <td>Google Pinterest Digg Linkedin Reddit Stumbleu...</td>\n",
       "      <td>FAKE</td>\n",
       "    </tr>\n",
       "    <tr>\n",
       "      <th>2</th>\n",
       "      <td>Kerry to go to Paris in gesture of sympathy</td>\n",
       "      <td>U.S. Secretary of State John F. Kerry said Mon...</td>\n",
       "      <td>REAL</td>\n",
       "    </tr>\n",
       "    <tr>\n",
       "      <th>3</th>\n",
       "      <td>Bernie supporters on Twitter erupt in anger ag...</td>\n",
       "      <td>— Kaydee King (@KaydeeKing) November 9, 2016 T...</td>\n",
       "      <td>FAKE</td>\n",
       "    </tr>\n",
       "    <tr>\n",
       "      <th>4</th>\n",
       "      <td>The Battle of New York: Why This Primary Matters</td>\n",
       "      <td>It's primary day in New York and front-runners...</td>\n",
       "      <td>REAL</td>\n",
       "    </tr>\n",
       "  </tbody>\n",
       "</table>\n",
       "</div>"
      ],
      "text/plain": [
       "                                               title  \\\n",
       "0                       You Can Smell Hillary’s Fear   \n",
       "1  Watch The Exact Moment Paul Ryan Committed Pol...   \n",
       "2        Kerry to go to Paris in gesture of sympathy   \n",
       "3  Bernie supporters on Twitter erupt in anger ag...   \n",
       "4   The Battle of New York: Why This Primary Matters   \n",
       "\n",
       "                                                text label  \n",
       "0  Daniel Greenfield, a Shillman Journalism Fello...  FAKE  \n",
       "1  Google Pinterest Digg Linkedin Reddit Stumbleu...  FAKE  \n",
       "2  U.S. Secretary of State John F. Kerry said Mon...  REAL  \n",
       "3  — Kaydee King (@KaydeeKing) November 9, 2016 T...  FAKE  \n",
       "4  It's primary day in New York and front-runners...  REAL  "
      ]
     },
     "execution_count": 25,
     "metadata": {},
     "output_type": "execute_result"
    }
   ],
   "source": [
    "data = data.drop([\"Unnamed: 0\"], axis=1) \n",
    "data.head(5) "
   ]
  },
  {
   "cell_type": "markdown",
   "metadata": {},
   "source": [
    "Data Encoding\n",
    "\n",
    "It converts the categorical column (label in out case) into numerical values."
   ]
  },
  {
   "cell_type": "code",
   "execution_count": 26,
   "metadata": {},
   "outputs": [],
   "source": [
    "# encoding the labels \n",
    "le = preprocessing.LabelEncoder() \n",
    "le.fit(data['label']) \n",
    "data['label'] = le.transform(data['label']) \n"
   ]
  },
  {
   "cell_type": "markdown",
   "metadata": {},
   "source": [
    "These are some variables required for the model training."
   ]
  },
  {
   "cell_type": "code",
   "execution_count": 27,
   "metadata": {},
   "outputs": [],
   "source": [
    "embedding_dim = 50\n",
    "max_length = 54\n",
    "trunc_type = 'post'\n",
    "padding_type = 'post'\n",
    "oov_tok = \"<OOV>\"\n",
    "training_size = 3000\n",
    "test_portion = .1\n"
   ]
  },
  {
   "cell_type": "markdown",
   "metadata": {},
   "source": [
    "Tokenization \n",
    "\n",
    "This process divides a large piece of continuous text into distinct units or tokens basically. Here we use columns separately for a temporal basis as a pipeline just for good accuracy."
   ]
  },
  {
   "cell_type": "code",
   "execution_count": 28,
   "metadata": {},
   "outputs": [],
   "source": [
    "title = [] \n",
    "text = [] \n",
    "labels = [] \n",
    "for x in range(training_size): \n",
    "\ttitle.append(data['title'][x]) \n",
    "\ttext.append(data['text'][x]) \n",
    "\tlabels.append(data['label'][x]) \n"
   ]
  },
  {
   "cell_type": "markdown",
   "metadata": {},
   "source": [
    "Applying Tokenization"
   ]
  },
  {
   "cell_type": "code",
   "execution_count": 29,
   "metadata": {},
   "outputs": [],
   "source": [
    "tokenizer1 = Tokenizer() \n",
    "tokenizer1.fit_on_texts(title) \n",
    "word_index1 = tokenizer1.word_index \n",
    "vocab_size1 = len(word_index1) \n",
    "sequences1 = tokenizer1.texts_to_sequences(title) \n",
    "padded1 = pad_sequences( \n",
    "\tsequences1, padding=padding_type, truncating=trunc_type) \n",
    "split = int(test_portion * training_size) \n",
    "training_sequences1 = padded1[split:training_size] \n",
    "test_sequences1 = padded1[0:split] \n",
    "test_labels = labels[0:split] \n",
    "training_labels = labels[split:training_size] \n"
   ]
  },
  {
   "cell_type": "markdown",
   "metadata": {},
   "source": [
    "Generating Word Embedding\n",
    "\n",
    "It allows words with similar meanings to have a similar representation. Here each individual word is represented as real-valued vectors in a predefined vector space. For that we will use glove.6B.50d.txt. It has the predefined vector space for words."
   ]
  },
  {
   "cell_type": "code",
   "execution_count": 30,
   "metadata": {},
   "outputs": [],
   "source": [
    "embeddings_index = {} \n",
    "with open('files/glove.6B.50d.txt', encoding=\"utf8\") as f: \n",
    "\tfor line in f: \n",
    "\t\tvalues = line.split() \n",
    "\t\tword = values[0] \n",
    "\t\tcoefs = np.asarray(values[1:], dtype='float32') \n",
    "\t\tembeddings_index[word] = coefs \n",
    "\n",
    "# Generating embeddings \n",
    "embeddings_matrix = np.zeros((vocab_size1+1, embedding_dim)) \n",
    "for word, i in word_index1.items(): \n",
    "\tembedding_vector = embeddings_index.get(word) \n",
    "\tif embedding_vector is not None: \n",
    "\t\tembeddings_matrix[i] = embedding_vector \n"
   ]
  },
  {
   "cell_type": "markdown",
   "metadata": {},
   "source": [
    "Creating Model Architecture\n",
    "\n",
    "Now it’s time to introduce TensorFlow to create the model.  Here we use the TensorFlow embedding technique with Keras Embedding Layer where we map original input data into some set of real-valued dimensions."
   ]
  },
  {
   "cell_type": "code",
   "execution_count": 31,
   "metadata": {},
   "outputs": [
    {
     "name": "stdout",
     "output_type": "stream",
     "text": [
      "Model: \"sequential_1\"\n",
      "_________________________________________________________________\n",
      " Layer (type)                Output Shape              Param #   \n",
      "=================================================================\n",
      " embedding_1 (Embedding)     (None, 54, 50)            377600    \n",
      "                                                                 \n",
      " dropout_1 (Dropout)         (None, 54, 50)            0         \n",
      "                                                                 \n",
      " conv1d_1 (Conv1D)           (None, 50, 64)            16064     \n",
      "                                                                 \n",
      " max_pooling1d_1 (MaxPoolin  (None, 12, 64)            0         \n",
      " g1D)                                                            \n",
      "                                                                 \n",
      " lstm_1 (LSTM)               (None, 64)                33024     \n",
      "                                                                 \n",
      " dense_1 (Dense)             (None, 1)                 65        \n",
      "                                                                 \n",
      "=================================================================\n",
      "Total params: 426753 (1.63 MB)\n",
      "Trainable params: 49153 (192.00 KB)\n",
      "Non-trainable params: 377600 (1.44 MB)\n",
      "_________________________________________________________________\n"
     ]
    }
   ],
   "source": [
    "model = tf.keras.Sequential([ \n",
    "\ttf.keras.layers.Embedding(vocab_size1+1, embedding_dim, \n",
    "\t\t\t\t\t\t\tinput_length=max_length, weights=[ \n",
    "\t\t\t\t\t\t\t\tembeddings_matrix], \n",
    "\t\t\t\t\t\t\ttrainable=False), \n",
    "\ttf.keras.layers.Dropout(0.2), \n",
    "\ttf.keras.layers.Conv1D(64, 5, activation='relu'), \n",
    "\ttf.keras.layers.MaxPooling1D(pool_size=4), \n",
    "\ttf.keras.layers.LSTM(64), \n",
    "\ttf.keras.layers.Dense(1, activation='sigmoid') \n",
    "]) \n",
    "model.compile(loss='binary_crossentropy', \n",
    "\t\t\toptimizer='adam', metrics=['accuracy']) \n",
    "model.summary() \n"
   ]
  },
  {
   "cell_type": "code",
   "execution_count": 32,
   "metadata": {},
   "outputs": [
    {
     "name": "stdout",
     "output_type": "stream",
     "text": [
      "Train on 2700 samples, validate on 300 samples\n",
      "Epoch 1/50\n"
     ]
    },
    {
     "name": "stderr",
     "output_type": "stream",
     "text": [
      "c:\\Users\\Dan\\AppData\\Local\\Programs\\Python\\Python310\\lib\\site-packages\\keras\\src\\engine\\training_v1.py:2335: UserWarning: `Model.state_updates` will be removed in a future version. This property should not be used in TensorFlow 2.0, as `updates` are applied automatically.\n",
      "  updates = self.state_updates\n"
     ]
    },
    {
     "name": "stdout",
     "output_type": "stream",
     "text": [
      "2700/2700 - 1s - loss: 0.6484 - accuracy: 0.6063 - val_loss: 0.5744 - val_accuracy: 0.6733 - 840ms/epoch - 311us/sample\n",
      "Epoch 2/50\n",
      "2700/2700 - 0s - loss: 0.5776 - accuracy: 0.6967 - val_loss: 0.5323 - val_accuracy: 0.7100 - 362ms/epoch - 134us/sample\n",
      "Epoch 3/50\n",
      "2700/2700 - 0s - loss: 0.5200 - accuracy: 0.7463 - val_loss: 0.4863 - val_accuracy: 0.7533 - 357ms/epoch - 132us/sample\n",
      "Epoch 4/50\n",
      "2700/2700 - 0s - loss: 0.4737 - accuracy: 0.7730 - val_loss: 0.5134 - val_accuracy: 0.7467 - 351ms/epoch - 130us/sample\n",
      "Epoch 5/50\n",
      "2700/2700 - 0s - loss: 0.4340 - accuracy: 0.7952 - val_loss: 0.4991 - val_accuracy: 0.7800 - 382ms/epoch - 141us/sample\n",
      "Epoch 6/50\n",
      "2700/2700 - 0s - loss: 0.3733 - accuracy: 0.8389 - val_loss: 0.5283 - val_accuracy: 0.7367 - 357ms/epoch - 132us/sample\n",
      "Epoch 7/50\n",
      "2700/2700 - 0s - loss: 0.3432 - accuracy: 0.8563 - val_loss: 0.4820 - val_accuracy: 0.7600 - 351ms/epoch - 130us/sample\n",
      "Epoch 8/50\n",
      "2700/2700 - 0s - loss: 0.3148 - accuracy: 0.8667 - val_loss: 0.4801 - val_accuracy: 0.7567 - 356ms/epoch - 132us/sample\n",
      "Epoch 9/50\n",
      "2700/2700 - 0s - loss: 0.2638 - accuracy: 0.8878 - val_loss: 0.5908 - val_accuracy: 0.7500 - 352ms/epoch - 130us/sample\n",
      "Epoch 10/50\n",
      "2700/2700 - 0s - loss: 0.2509 - accuracy: 0.8944 - val_loss: 0.5494 - val_accuracy: 0.7500 - 351ms/epoch - 130us/sample\n",
      "Epoch 11/50\n",
      "2700/2700 - 0s - loss: 0.2465 - accuracy: 0.8981 - val_loss: 0.5619 - val_accuracy: 0.7600 - 354ms/epoch - 131us/sample\n",
      "Epoch 12/50\n",
      "2700/2700 - 0s - loss: 0.2126 - accuracy: 0.9159 - val_loss: 0.5884 - val_accuracy: 0.7667 - 359ms/epoch - 133us/sample\n",
      "Epoch 13/50\n",
      "2700/2700 - 0s - loss: 0.1886 - accuracy: 0.9226 - val_loss: 0.6595 - val_accuracy: 0.7467 - 355ms/epoch - 131us/sample\n",
      "Epoch 14/50\n",
      "2700/2700 - 0s - loss: 0.1794 - accuracy: 0.9263 - val_loss: 0.7362 - val_accuracy: 0.7333 - 357ms/epoch - 132us/sample\n",
      "Epoch 15/50\n",
      "2700/2700 - 0s - loss: 0.1620 - accuracy: 0.9378 - val_loss: 0.5465 - val_accuracy: 0.7667 - 358ms/epoch - 133us/sample\n",
      "Epoch 16/50\n",
      "2700/2700 - 0s - loss: 0.1486 - accuracy: 0.9407 - val_loss: 0.7081 - val_accuracy: 0.7600 - 355ms/epoch - 131us/sample\n",
      "Epoch 17/50\n",
      "2700/2700 - 0s - loss: 0.1478 - accuracy: 0.9444 - val_loss: 0.5982 - val_accuracy: 0.7533 - 360ms/epoch - 133us/sample\n",
      "Epoch 18/50\n",
      "2700/2700 - 0s - loss: 0.1341 - accuracy: 0.9489 - val_loss: 0.6466 - val_accuracy: 0.7633 - 355ms/epoch - 131us/sample\n",
      "Epoch 19/50\n",
      "2700/2700 - 0s - loss: 0.1443 - accuracy: 0.9426 - val_loss: 0.7567 - val_accuracy: 0.7433 - 352ms/epoch - 130us/sample\n",
      "Epoch 20/50\n",
      "2700/2700 - 0s - loss: 0.1213 - accuracy: 0.9496 - val_loss: 0.7481 - val_accuracy: 0.7533 - 354ms/epoch - 131us/sample\n",
      "Epoch 21/50\n",
      "2700/2700 - 0s - loss: 0.1217 - accuracy: 0.9541 - val_loss: 0.7514 - val_accuracy: 0.7600 - 359ms/epoch - 133us/sample\n",
      "Epoch 22/50\n",
      "2700/2700 - 0s - loss: 0.1068 - accuracy: 0.9589 - val_loss: 0.7364 - val_accuracy: 0.7433 - 358ms/epoch - 133us/sample\n",
      "Epoch 23/50\n",
      "2700/2700 - 0s - loss: 0.1176 - accuracy: 0.9537 - val_loss: 0.7415 - val_accuracy: 0.7600 - 356ms/epoch - 132us/sample\n",
      "Epoch 24/50\n",
      "2700/2700 - 0s - loss: 0.1356 - accuracy: 0.9441 - val_loss: 0.8674 - val_accuracy: 0.7233 - 352ms/epoch - 130us/sample\n",
      "Epoch 25/50\n",
      "2700/2700 - 0s - loss: 0.1044 - accuracy: 0.9615 - val_loss: 0.6548 - val_accuracy: 0.7767 - 357ms/epoch - 132us/sample\n",
      "Epoch 26/50\n",
      "2700/2700 - 0s - loss: 0.1013 - accuracy: 0.9652 - val_loss: 0.7203 - val_accuracy: 0.7733 - 363ms/epoch - 134us/sample\n",
      "Epoch 27/50\n",
      "2700/2700 - 0s - loss: 0.0977 - accuracy: 0.9656 - val_loss: 0.7946 - val_accuracy: 0.7500 - 349ms/epoch - 129us/sample\n",
      "Epoch 28/50\n",
      "2700/2700 - 0s - loss: 0.1116 - accuracy: 0.9578 - val_loss: 0.8043 - val_accuracy: 0.7733 - 358ms/epoch - 133us/sample\n",
      "Epoch 29/50\n",
      "2700/2700 - 0s - loss: 0.0748 - accuracy: 0.9719 - val_loss: 0.7690 - val_accuracy: 0.7633 - 359ms/epoch - 133us/sample\n",
      "Epoch 30/50\n",
      "2700/2700 - 0s - loss: 0.0769 - accuracy: 0.9689 - val_loss: 0.8797 - val_accuracy: 0.7567 - 350ms/epoch - 130us/sample\n",
      "Epoch 31/50\n",
      "2700/2700 - 0s - loss: 0.0800 - accuracy: 0.9722 - val_loss: 0.8786 - val_accuracy: 0.7600 - 350ms/epoch - 130us/sample\n",
      "Epoch 32/50\n",
      "2700/2700 - 0s - loss: 0.0788 - accuracy: 0.9678 - val_loss: 0.7049 - val_accuracy: 0.7633 - 358ms/epoch - 133us/sample\n",
      "Epoch 33/50\n",
      "2700/2700 - 0s - loss: 0.0770 - accuracy: 0.9700 - val_loss: 0.8273 - val_accuracy: 0.7467 - 395ms/epoch - 146us/sample\n",
      "Epoch 34/50\n",
      "2700/2700 - 0s - loss: 0.0707 - accuracy: 0.9741 - val_loss: 0.8173 - val_accuracy: 0.7567 - 359ms/epoch - 133us/sample\n",
      "Epoch 35/50\n",
      "2700/2700 - 0s - loss: 0.0873 - accuracy: 0.9681 - val_loss: 0.7832 - val_accuracy: 0.7533 - 358ms/epoch - 133us/sample\n",
      "Epoch 36/50\n",
      "2700/2700 - 0s - loss: 0.0686 - accuracy: 0.9770 - val_loss: 0.7964 - val_accuracy: 0.7267 - 366ms/epoch - 136us/sample\n",
      "Epoch 37/50\n",
      "2700/2700 - 0s - loss: 0.0734 - accuracy: 0.9741 - val_loss: 1.0192 - val_accuracy: 0.7500 - 360ms/epoch - 133us/sample\n",
      "Epoch 38/50\n",
      "2700/2700 - 0s - loss: 0.0787 - accuracy: 0.9707 - val_loss: 0.8828 - val_accuracy: 0.7600 - 354ms/epoch - 131us/sample\n",
      "Epoch 39/50\n",
      "2700/2700 - 0s - loss: 0.0769 - accuracy: 0.9737 - val_loss: 0.6954 - val_accuracy: 0.7567 - 351ms/epoch - 130us/sample\n",
      "Epoch 40/50\n",
      "2700/2700 - 0s - loss: 0.0649 - accuracy: 0.9744 - val_loss: 0.9053 - val_accuracy: 0.7300 - 352ms/epoch - 130us/sample\n",
      "Epoch 41/50\n",
      "2700/2700 - 0s - loss: 0.0743 - accuracy: 0.9730 - val_loss: 0.7912 - val_accuracy: 0.7333 - 349ms/epoch - 129us/sample\n",
      "Epoch 42/50\n",
      "2700/2700 - 0s - loss: 0.0587 - accuracy: 0.9793 - val_loss: 0.8764 - val_accuracy: 0.7600 - 351ms/epoch - 130us/sample\n",
      "Epoch 43/50\n",
      "2700/2700 - 0s - loss: 0.0608 - accuracy: 0.9770 - val_loss: 0.8916 - val_accuracy: 0.7367 - 352ms/epoch - 130us/sample\n",
      "Epoch 44/50\n",
      "2700/2700 - 0s - loss: 0.0756 - accuracy: 0.9730 - val_loss: 0.8852 - val_accuracy: 0.7500 - 353ms/epoch - 131us/sample\n",
      "Epoch 45/50\n",
      "2700/2700 - 0s - loss: 0.0864 - accuracy: 0.9711 - val_loss: 0.7745 - val_accuracy: 0.7500 - 360ms/epoch - 133us/sample\n",
      "Epoch 46/50\n",
      "2700/2700 - 0s - loss: 0.0593 - accuracy: 0.9785 - val_loss: 0.8086 - val_accuracy: 0.7567 - 363ms/epoch - 134us/sample\n",
      "Epoch 47/50\n",
      "2700/2700 - 0s - loss: 0.0598 - accuracy: 0.9756 - val_loss: 0.8769 - val_accuracy: 0.7367 - 358ms/epoch - 133us/sample\n",
      "Epoch 48/50\n",
      "2700/2700 - 0s - loss: 0.0570 - accuracy: 0.9811 - val_loss: 0.8905 - val_accuracy: 0.7333 - 358ms/epoch - 133us/sample\n",
      "Epoch 49/50\n",
      "2700/2700 - 0s - loss: 0.0657 - accuracy: 0.9781 - val_loss: 0.8415 - val_accuracy: 0.7433 - 352ms/epoch - 130us/sample\n",
      "Epoch 50/50\n",
      "2700/2700 - 0s - loss: 0.0546 - accuracy: 0.9804 - val_loss: 0.7692 - val_accuracy: 0.7400 - 362ms/epoch - 134us/sample\n"
     ]
    }
   ],
   "source": [
    "num_epochs = 50\n",
    "\n",
    "training_padded = np.array(training_sequences1) \n",
    "training_labels = np.array(training_labels) \n",
    "testing_padded = np.array(test_sequences1) \n",
    "testing_labels = np.array(test_labels) \n",
    "\n",
    "history = model.fit(training_padded, training_labels, \n",
    "\t\t\t\t\tepochs=num_epochs, \n",
    "\t\t\t\t\tvalidation_data=(testing_padded, \n",
    "\t\t\t\t\t\t\t\t\ttesting_labels), \n",
    "\t\t\t\t\tverbose=2) \n"
   ]
  },
  {
   "cell_type": "markdown",
   "metadata": {},
   "source": [
    "Model Evaluation and Prediction\n",
    "\n",
    "Now, the detection model is built using TensorFlow. Now we will try to test the model by using some news text by predicting whether it is true or false."
   ]
  },
  {
   "cell_type": "code",
   "execution_count": 37,
   "metadata": {},
   "outputs": [
    {
     "name": "stdout",
     "output_type": "stream",
     "text": [
      "This news is True\n"
     ]
    }
   ],
   "source": [
    "# sample text to check if fake or not \n",
    "X = \"Noma gained a third star\"\n",
    "\n",
    "# detection \n",
    "sequences = tokenizer1.texts_to_sequences([X])[0] \n",
    "sequences = pad_sequences([sequences], maxlen=54, \n",
    "\t\t\t\t\t\tpadding=padding_type, \n",
    "\t\t\t\t\t\ttruncating=trunc_type) \n",
    "if(model.predict(sequences, verbose=0)[0][0] >= 0.5): \n",
    "\tprint(\"This news is True\") \n",
    "else: \n",
    "\tprint(\"This news is false\") \n"
   ]
  }
 ],
 "metadata": {
  "kernelspec": {
   "display_name": "Python 3",
   "language": "python",
   "name": "python3"
  },
  "language_info": {
   "codemirror_mode": {
    "name": "ipython",
    "version": 3
   },
   "file_extension": ".py",
   "mimetype": "text/x-python",
   "name": "python",
   "nbconvert_exporter": "python",
   "pygments_lexer": "ipython3",
   "version": "3.10.10"
  }
 },
 "nbformat": 4,
 "nbformat_minor": 2
}
